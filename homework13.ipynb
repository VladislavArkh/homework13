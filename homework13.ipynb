{
 "cells": [
  {
   "cell_type": "code",
   "execution_count": null,
   "metadata": {},
   "outputs": [],
   "source": [
    "from langchain import hub  \n",
    "from langchain.agents import AgentExecutor, create_openai_tools_agent  \n",
    "from langchain_openai import ChatOpenAI\n",
    "from langchain_core.tools import tool\n",
    "from portkey_ai import PORTKEY_GATEWAY_URL, createHeaders\n",
    " \n",
    "prompt = hub.pull(\"hwchase17/openai-tools-agent\")\n",
    "\n",
    "portkey_headers = createHeaders(\n",
    "    api_key=PORTKEY_API_KEY,\n",
    "    virtual_key=OPENAI_VIRTUAL_KEY,\n",
    "    trace_id=\"uuid-uuid-uuid-uuid\"\n",
    ")\n",
    "\n",
    "@tool\n",
    "def multiply(first_int: int, second_int: int) -> int:\n",
    "    \"\"\"Multiply two integers together.\"\"\"\n",
    "    return first_int * second_int\n",
    "  \n",
    "@tool  \n",
    "def exponentiate(base: int, exponent: int) -> int:  \n",
    "    \"Exponentiate the base to the exponent power.\"  \n",
    "    return base**exponent  \n",
    "  \n",
    "tools = [multiply, exponentiate]\n",
    "\n",
    "model = ChatOpenAI(api_key=\"X\", base_url=PORTKEY_GATEWAY_URL, default_headers=portkey_headers, temperature=0)\n",
    "  \n",
    "# Construct the OpenAI Tools agent  \n",
    "agent = create_openai_tools_agent(model, tools, prompt)\n",
    "\n",
    "# Create an agent executor by passing in the agent and tools\n",
    "agent_executor = AgentExecutor(agent=agent, tools=tools, verbose=True)"
   ]
  }
 ],
 "metadata": {
  "language_info": {
   "name": "python"
  }
 },
 "nbformat": 4,
 "nbformat_minor": 2
}
